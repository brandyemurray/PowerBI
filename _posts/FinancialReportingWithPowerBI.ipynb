{
 "cells": [
  {
   "cell_type": "code",
   "execution_count": 2,
   "id": "1fff32d1-a852-44fd-b8ae-f48f2a877167",
   "metadata": {},
   "outputs": [
    {
     "data": {
      "text/html": [
       "\n",
       "        <iframe\n",
       "            width=\"800\"\n",
       "            height=\"636\"\n",
       "            src=\"https://app.powerbi.com/view?r=eyJrIjoiZDI4ZDU4MTktMGE0MC00MDRiLTg4NTYtMjZiYzljMGQ3Yzg2IiwidCI6IjAwM2Q0MTg3LWU2NTgtNDU5ZS1hN2JmLTJiNWE5YWNlMjQ2YSIsImMiOjZ9&pageName=ReportSectionce5befb186f2c45d64eb\"\n",
       "            frameborder=\"0\"\n",
       "            allowfullscreen\n",
       "            \n",
       "        ></iframe>\n",
       "        "
      ],
      "text/plain": [
       "<IPython.lib.display.IFrame at 0x239ac869400>"
      ]
     },
     "execution_count": 2,
     "metadata": {},
     "output_type": "execute_result"
    }
   ],
   "source": [
    "from IPython.display import IFrame\n",
    "IFrame(src=\"https://app.powerbi.com/view?r=eyJrIjoiZDI4ZDU4MTktMGE0MC00MDRiLTg4NTYtMjZiYzljMGQ3Yzg2IiwidCI6IjAwM2Q0MTg3LWU2NTgtNDU5ZS1hN2JmLTJiNWE5YWNlMjQ2YSIsImMiOjZ9&pageName=ReportSectionce5befb186f2c45d64eb\", height = 636, width = 800) "
   ]
  },
  {
   "cell_type": "code",
   "execution_count": 2,
   "id": "8937d8d2-a9e0-4a20-b9ec-b3cbfdf57ebe",
   "metadata": {},
   "outputs": [
    {
     "name": "stdout",
     "output_type": "stream",
     "text": [
      "Requirement already satisfied: IPython in c:\\users\\brand\\anaconda3\\envs\\python3_9\\lib\\site-packages (7.31.1)\n",
      "Requirement already satisfied: backcall in c:\\users\\brand\\anaconda3\\envs\\python3_9\\lib\\site-packages (from IPython) (0.2.0)\n",
      "Requirement already satisfied: jedi>=0.16 in c:\\users\\brand\\anaconda3\\envs\\python3_9\\lib\\site-packages (from IPython) (0.18.1)\n",
      "Requirement already satisfied: pickleshare in c:\\users\\brand\\anaconda3\\envs\\python3_9\\lib\\site-packages (from IPython) (0.7.5)\n",
      "Requirement already satisfied: decorator in c:\\users\\brand\\anaconda3\\envs\\python3_9\\lib\\site-packages (from IPython) (5.1.1)\n",
      "Requirement already satisfied: prompt-toolkit!=3.0.0,!=3.0.1,<3.1.0,>=2.0.0 in c:\\users\\brand\\anaconda3\\envs\\python3_9\\lib\\site-packages (from IPython) (3.0.36)\n",
      "Requirement already satisfied: pygments in c:\\users\\brand\\anaconda3\\envs\\python3_9\\lib\\site-packages (from IPython) (2.11.2)\n",
      "Requirement already satisfied: setuptools>=18.5 in c:\\users\\brand\\anaconda3\\envs\\python3_9\\lib\\site-packages (from IPython) (65.6.3)\n",
      "Requirement already satisfied: colorama in c:\\users\\brand\\anaconda3\\envs\\python3_9\\lib\\site-packages (from IPython) (0.4.6)\n",
      "Requirement already satisfied: matplotlib-inline in c:\\users\\brand\\anaconda3\\envs\\python3_9\\lib\\site-packages (from IPython) (0.1.6)\n",
      "Requirement already satisfied: traitlets>=4.2 in c:\\users\\brand\\anaconda3\\envs\\python3_9\\lib\\site-packages (from IPython) (5.7.1)\n",
      "Requirement already satisfied: parso<0.9.0,>=0.8.0 in c:\\users\\brand\\anaconda3\\envs\\python3_9\\lib\\site-packages (from jedi>=0.16->IPython) (0.8.3)\n",
      "Requirement already satisfied: wcwidth in c:\\users\\brand\\anaconda3\\envs\\python3_9\\lib\\site-packages (from prompt-toolkit!=3.0.0,!=3.0.1,<3.1.0,>=2.0.0->IPython) (0.2.5)\n",
      "Note: you may need to restart the kernel to use updated packages.\n"
     ]
    }
   ],
   "source": [
    "pip install IPython"
   ]
  },
  {
   "cell_type": "code",
   "execution_count": null,
   "id": "eba20e8d-1262-4abd-89a0-f64229ba9fa4",
   "metadata": {},
   "outputs": [],
   "source": []
  }
 ],
 "metadata": {
  "kernelspec": {
   "display_name": "Python 3 (ipykernel)",
   "language": "python",
   "name": "python3"
  },
  "language_info": {
   "codemirror_mode": {
    "name": "ipython",
    "version": 3
   },
   "file_extension": ".py",
   "mimetype": "text/x-python",
   "name": "python",
   "nbconvert_exporter": "python",
   "pygments_lexer": "ipython3",
   "version": "3.9.16"
  }
 },
 "nbformat": 4,
 "nbformat_minor": 5
}
